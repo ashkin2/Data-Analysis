{
 "cells": [
  {
   "cell_type": "markdown",
   "metadata": {},
   "source": [
    "# Drawing Conclusions Quiz\n",
    "Use the space below to explore `store_data.csv` to answer the quiz questions below."
   ]
  },
  {
   "cell_type": "code",
   "execution_count": 8,
   "metadata": {
    "collapsed": true
   },
   "outputs": [],
   "source": [
    "# imports and load data\n",
    "import pandas as pd\n",
    "import numpy as np\n",
    "from datetime import datetime\n",
    "% matplotlib inline\n",
    "\n",
    "df_store = pd.read_csv('store_data.csv')\n"
   ]
  },
  {
   "cell_type": "code",
   "execution_count": 2,
   "metadata": {},
   "outputs": [
    {
     "name": "stdout",
     "output_type": "stream",
     "text": [
      "<class 'pandas.core.frame.DataFrame'>\n",
      "RangeIndex: 200 entries, 0 to 199\n",
      "Data columns (total 6 columns):\n",
      "week      200 non-null object\n",
      "storeA    200 non-null int64\n",
      "storeB    200 non-null int64\n",
      "storeC    200 non-null int64\n",
      "storeD    200 non-null int64\n",
      "storeE    200 non-null int64\n",
      "dtypes: int64(5), object(1)\n",
      "memory usage: 9.5+ KB\n"
     ]
    },
    {
     "data": {
      "text/html": [
       "<div>\n",
       "<style>\n",
       "    .dataframe thead tr:only-child th {\n",
       "        text-align: right;\n",
       "    }\n",
       "\n",
       "    .dataframe thead th {\n",
       "        text-align: left;\n",
       "    }\n",
       "\n",
       "    .dataframe tbody tr th {\n",
       "        vertical-align: top;\n",
       "    }\n",
       "</style>\n",
       "<table border=\"1\" class=\"dataframe\">\n",
       "  <thead>\n",
       "    <tr style=\"text-align: right;\">\n",
       "      <th></th>\n",
       "      <th>week</th>\n",
       "      <th>storeA</th>\n",
       "      <th>storeB</th>\n",
       "      <th>storeC</th>\n",
       "      <th>storeD</th>\n",
       "      <th>storeE</th>\n",
       "    </tr>\n",
       "  </thead>\n",
       "  <tbody>\n",
       "    <tr>\n",
       "      <th>0</th>\n",
       "      <td>2014-05-04</td>\n",
       "      <td>2643</td>\n",
       "      <td>8257</td>\n",
       "      <td>3893</td>\n",
       "      <td>6231</td>\n",
       "      <td>1294</td>\n",
       "    </tr>\n",
       "    <tr>\n",
       "      <th>1</th>\n",
       "      <td>2014-05-11</td>\n",
       "      <td>6444</td>\n",
       "      <td>5736</td>\n",
       "      <td>5634</td>\n",
       "      <td>7092</td>\n",
       "      <td>2907</td>\n",
       "    </tr>\n",
       "    <tr>\n",
       "      <th>2</th>\n",
       "      <td>2014-05-18</td>\n",
       "      <td>9646</td>\n",
       "      <td>2552</td>\n",
       "      <td>4253</td>\n",
       "      <td>5447</td>\n",
       "      <td>4736</td>\n",
       "    </tr>\n",
       "    <tr>\n",
       "      <th>3</th>\n",
       "      <td>2014-05-25</td>\n",
       "      <td>5960</td>\n",
       "      <td>10740</td>\n",
       "      <td>8264</td>\n",
       "      <td>6063</td>\n",
       "      <td>949</td>\n",
       "    </tr>\n",
       "    <tr>\n",
       "      <th>4</th>\n",
       "      <td>2014-06-01</td>\n",
       "      <td>7412</td>\n",
       "      <td>7374</td>\n",
       "      <td>3208</td>\n",
       "      <td>3985</td>\n",
       "      <td>3023</td>\n",
       "    </tr>\n",
       "  </tbody>\n",
       "</table>\n",
       "</div>"
      ],
      "text/plain": [
       "         week  storeA  storeB  storeC  storeD  storeE\n",
       "0  2014-05-04    2643    8257    3893    6231    1294\n",
       "1  2014-05-11    6444    5736    5634    7092    2907\n",
       "2  2014-05-18    9646    2552    4253    5447    4736\n",
       "3  2014-05-25    5960   10740    8264    6063     949\n",
       "4  2014-06-01    7412    7374    3208    3985    3023"
      ]
     },
     "execution_count": 2,
     "metadata": {},
     "output_type": "execute_result"
    }
   ],
   "source": [
    "# explore data\n",
    "df_store.info()\n",
    "\n",
    "df_store.head()"
   ]
  },
  {
   "cell_type": "code",
   "execution_count": 3,
   "metadata": {},
   "outputs": [
    {
     "name": "stdout",
     "output_type": "stream",
     "text": [
      "Total sales is 5115145\n",
      "Max total sales is 1351342\n",
      "store with max total sales is storeB\n"
     ]
    }
   ],
   "source": [
    "# total sales for the last month\n",
    "#first make new column with total values for all stores on that date\n",
    "df_store['total'] = df_store['storeA'] + df_store['storeB'] + df_store['storeC'] + df_store['storeD'] +df_store['storeE'] \n",
    "#get total sales\n",
    "total_sales = sum(df_store['total'])\n",
    "print('Total sales is {}'.format(total_sales))\n",
    "list_store_names = ['storeA', 'storeB', 'storeC', 'storeD', 'storeE']\n",
    "\n",
    "list_total = []\n",
    "sum_A = sum(df_store['storeA'])\n",
    "sum_B = sum(df_store['storeB'])\n",
    "sum_C = sum(df_store['storeC'])\n",
    "sum_D = sum(df_store['storeD'])\n",
    "sum_E = sum(df_store['storeE'])\n",
    "list_total = [sum_A, sum_B, sum_C, sum_D, sum_E]\n",
    "max_tot = max(list_total)\n",
    "#compute max value and return position\n",
    "pos = list_total.index(max_tot)\n",
    "print(\"Max total sales is {}\".format(max_tot))\n",
    "print(\"store with max total sales is {}\".format(list_store_names[pos]))\n"
   ]
  },
  {
   "cell_type": "code",
   "execution_count": 44,
   "metadata": {},
   "outputs": [
    {
     "name": "stdout",
     "output_type": "stream",
     "text": [
      "Store with max sales in last month is storeA\n"
     ]
    }
   ],
   "source": [
    "#calculate sales for final month\n",
    "\n",
    "#find time range\n",
    "#df_store[180:]   #inspect last months to determine span\n",
    "\n",
    "df_span_last = df_store[(df_store['week'] > '2018-02-04') & (df_store['week'] < '2018-02-25')]\n",
    "#print(df_span_last) #checkpoint\n",
    "a3 = sum(df_span_last['storeA'])\n",
    "b3 = sum(df_span_last['storeB'])\n",
    "c3 = sum(df_span_last['storeC'])\n",
    "d3 = sum(df_span_last['storeD'])\n",
    "e3 = sum(df_span_last['storeE'])\n",
    "last = [a3,b3,c3,d3,e3]\n",
    "max_last = max(last)\n",
    "#print(last, max_last) #checkpoint\n",
    "store_max_last = list_store_names[last.index(max_last)]\n",
    "print('Store with max sales in last month is {}'.format(store_max_last))\n",
    "\n",
    "\n"
   ]
  },
  {
   "cell_type": "code",
   "execution_count": 4,
   "metadata": {},
   "outputs": [
    {
     "name": "stdout",
     "output_type": "stream",
     "text": [
      "store with highest average sales [using lists] is storeB\n",
      "store with highest average sales [using dicts] is storeB\n"
     ]
    }
   ],
   "source": [
    "# average sales\n",
    "avg_A = df_store['storeA'].mean()\n",
    "avg_B = df_store['storeB'].mean()\n",
    "avg_C = df_store['storeC'].mean()\n",
    "avg_D = df_store['storeD'].mean()\n",
    "avg_E = df_store['storeE'].mean()\n",
    "\n",
    "#compute store with highest average sales using lists\n",
    "list_avg = [avg_A, avg_B, avg_C, avg_D, avg_E]\n",
    "list_store_names = ['storeA', 'storeB', 'storeC', 'storeD', 'storeE']\n",
    "#print(list_avg) #check-point to verify contents as five averages\n",
    "\n",
    "max_avg = max(list_avg)\n",
    "#compute max value and return position\n",
    "pos = list_avg.index(max_avg)\n",
    "#use the position value to select store\n",
    "print(\"store with highest average sales [using lists] is {}\".format(list_store_names[pos]))\n",
    "\n",
    "#compute store with highest average sales using dicts\n",
    "dict_avg = {'storeA' : avg_A, 'storeB' : avg_B, 'storeC' : avg_C, \n",
    "            'storeD' : avg_D, 'storeE' : avg_E}\n",
    "dict_max = max(dict_avg, key=dict_avg.get)\n",
    "print(\"store with highest average sales [using dicts] is {}\".format(dict_max))\n"
   ]
  },
  {
   "cell_type": "code",
   "execution_count": 5,
   "metadata": {},
   "outputs": [
    {
     "name": "stdout",
     "output_type": "stream",
     "text": [
      "          week  storeA  storeB  storeC  storeD  storeE  total\n",
      "97  2016-03-13    2054    1390    5112    5513    2536  16605\n",
      "    storeA  storeB  storeC  storeD  storeE\n",
      "97    2054    1390    5112    5513    2536\n"
     ]
    }
   ],
   "source": [
    "# sales on march 13, 2016\n",
    "\n",
    "# calculate sales on week of March 13th, 2016\n",
    "sale = df_store.loc[df_store['week'] == '2016-03-13']\n",
    "print(sale)   #checkpoint to verify record returned\n",
    "\n",
    "del sale['week']\n",
    "del sale['total']\n",
    "print(sale)\n"
   ]
  },
  {
   "cell_type": "code",
   "execution_count": 6,
   "metadata": {},
   "outputs": [
    {
     "name": "stdout",
     "output_type": "stream",
     "text": [
      "         week  storeA  storeB  storeC  storeD  storeE  total\n",
      "9  2014-07-06    8567    3228     927    3277     168  16167\n"
     ]
    }
   ],
   "source": [
    "# worst week for store C\n",
    "sale_storeC = []\n",
    "sale_storeC = df_store['storeC']\n",
    "date_storeC = df_store['week']\n",
    "\n",
    "minC = min(sale_storeC)\n",
    "\n",
    "\n",
    "print(df_store.loc[df_store['storeC'] == minC])"
   ]
  },
  {
   "cell_type": "code",
   "execution_count": 39,
   "metadata": {},
   "outputs": [
    {
     "name": "stdout",
     "output_type": "stream",
     "text": [
      "2014-05-04\n",
      "2018-02-25\n",
      "[74852, 68640, 56848, 63367, 24636] 74852\n",
      "Store with max sales in last 3 month period is storeA\n"
     ]
    }
   ],
   "source": [
    "# total sales during most recent 3 month period\n",
    "\n",
    "#find time range\n",
    "dates_ranges = df_store['week']\n",
    "print(min(dates_ranges))\n",
    "print(max(dates_ranges))\n",
    "#df_store[180:]   #inspect last months to determine span\n",
    "\n",
    "#df_span = df_store[(df_store['week'] > '2017-09-03') & (df_store['week'] < '2017-12-17')]\n",
    "#print(df_span)\n",
    "\n",
    "\n",
    "df_span_last3 = df_store[(df_store['week'] > '2017-12-03') & (df_store['week'] < '2018-02-25')]\n",
    "#print(df_span_last3) #checkpoint\n",
    "a3 = sum(df_span_last3['storeA'])\n",
    "b3 = sum(df_span_last3['storeB'])\n",
    "c3 = sum(df_span_last3['storeC'])\n",
    "d3 = sum(df_span_last3['storeD'])\n",
    "e3 = sum(df_span_last3['storeE'])\n",
    "last3 = [a3,b3,c3,d3,e3]\n",
    "max_last3 = max(last3)\n",
    "#print(last3, max_last3) #checkpoint\n",
    "store_max_last3 = list_store_names[last3.index(max_last3)]\n",
    "print('Store with max sales in last 3 month period is {}'.format(store_max_last3))\n",
    "\n",
    "\n",
    "#df_new=df_store[df_store['week'] == '2018-02-25']\n",
    "#print(df_new)\n"
   ]
  },
  {
   "cell_type": "code",
   "execution_count": null,
   "metadata": {
    "collapsed": true
   },
   "outputs": [],
   "source": []
  }
 ],
 "metadata": {
  "kernelspec": {
   "display_name": "Python 3",
   "language": "python",
   "name": "python3"
  },
  "language_info": {
   "codemirror_mode": {
    "name": "ipython",
    "version": 3
   },
   "file_extension": ".py",
   "mimetype": "text/x-python",
   "name": "python",
   "nbconvert_exporter": "python",
   "pygments_lexer": "ipython3",
   "version": "3.6.1"
  }
 },
 "nbformat": 4,
 "nbformat_minor": 2
}
